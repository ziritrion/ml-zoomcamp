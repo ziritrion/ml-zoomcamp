{
 "cells": [
  {
   "cell_type": "markdown",
   "metadata": {},
   "source": [
    "# Imports and Event Creation"
   ]
  },
  {
   "cell_type": "code",
   "execution_count": null,
   "metadata": {},
   "outputs": [],
   "source": [
    "import json\n",
    "import requests"
   ]
  },
  {
   "cell_type": "markdown",
   "metadata": {},
   "source": [
    "When setting `short` to `True`, we only get the predicted class for the image.\n",
    "\n",
    "If `short` is set instead to `False`, we will get the logits (not the probabilities!) for all possible categories."
   ]
  },
  {
   "cell_type": "code",
   "execution_count": null,
   "metadata": {},
   "outputs": [],
   "source": [
    "url_apple = 'https://p.turbosquid.com/ts-thumb/hU/Dcr9s1/jz/applefruit_a0000/jpg/1626850265/600x600/fit_q87/98b0a1bf7e1ce7cd24aab43cd9610b190d5e4cf1/applefruit_a0000.jpg'\n",
    "url_beetroot = 'https://hips.hearstapps.com/hmg-prod.s3.amazonaws.com/images/roasted-beets-horizontal-1533160874.jpg'\n",
    "url_garlic = 'https://www.garlicsolutions.com/wp-content/uploads/2020/12/garlic_home.jpg'\n",
    "url_watermelon = 'https://i0.wp.com/post.healthline.com/wp-content/uploads/2021/11/watermelon-1296x728-header-1.jpg?w=1155&h=1528'\n",
    "url_onion = 'https://m.media-amazon.com/images/I/81gv--xMImL._SX679_.jpg'\n",
    "\n",
    "event_dict = {\n",
    "    \"url\": url_apple,\n",
    "    \"short\": True\n",
    "}"
   ]
  },
  {
   "cell_type": "markdown",
   "metadata": {},
   "source": [
    "# Testing the Lambda Function (local)"
   ]
  },
  {
   "cell_type": "markdown",
   "metadata": {},
   "source": [
    "Make sure that the `lambda_function.py` file is in the same folder as this Jupyter Notebook. Also make sure that line line 11 of `lambda_function.py` is commented and line 12 is uncommented."
   ]
  },
  {
   "cell_type": "code",
   "execution_count": null,
   "metadata": {},
   "outputs": [],
   "source": [
    "import lambda_function"
   ]
  },
  {
   "cell_type": "code",
   "execution_count": null,
   "metadata": {},
   "outputs": [],
   "source": [
    "event = json.dumps(event_dict)\n",
    "print(event)"
   ]
  },
  {
   "cell_type": "code",
   "execution_count": null,
   "metadata": {},
   "outputs": [],
   "source": [
    "# Lambda takes care of converting the JSON to Python dict,\n",
    "# so for local testing we send the dict instead\n",
    "lambda_function.lambda_handler(event_dict, None)"
   ]
  },
  {
   "cell_type": "markdown",
   "metadata": {},
   "source": [
    "# Testing the Lambda Function (Docker)"
   ]
  },
  {
   "cell_type": "markdown",
   "metadata": {},
   "source": [
    "Before building the Docker Image, make sure that line 11 is `lambda-function.py` is uncommented and line 12 is commented.\n",
    "\n",
    "In order to build the Docker image, make sure you're in the `docker` folder containing `Dockerfile`, `model.tflite` and `lamnda-function.py` and run the following command in a terminal:\n",
    "\n",
    "`docker build -f Dockerfile -t veggies-lambda .`\n",
    "\n",
    "The name `veggies-lambda` may be changed to any of your choosing.\n",
    "\n",
    "After the image is built, please run the following command:\n",
    "\n",
    "`docker run -it --rm -p 8080:8080 veggies-lambda:latest`\n",
    "\n",
    "Make sure to change `veggies-lambda` yo tour image name if you changed it in the previous step.\n",
    "\n",
    "Once the image is running, run the code blocks below to test it.\n",
    "\n",
    "You may shut down your Docker container by pressing `Ctrl+C` on your terminal or simply by closing it."
   ]
  },
  {
   "cell_type": "code",
   "execution_count": null,
   "metadata": {},
   "outputs": [],
   "source": [
    "url = 'http://localhost:8080/2015-03-31/functions/function/invocations'"
   ]
  },
  {
   "cell_type": "code",
   "execution_count": null,
   "metadata": {},
   "outputs": [],
   "source": [
    "requests.post(url, json=event_dict).json()"
   ]
  },
  {
   "cell_type": "markdown",
   "metadata": {},
   "source": [
    "# Testing the Lambda Function (deployment in AWS Lambda)"
   ]
  },
  {
   "cell_type": "markdown",
   "metadata": {},
   "source": [
    "Make sure to change `lambda_api` to the Invoke URL of your API. The `lambda_method` can also be changed if you chose something other than `/predict`.\n",
    "\n",
    "The URL contained by default in this document should be available for the duration of the evaluation period of the project but may not be available any later than December 20th of 2021."
   ]
  },
  {
   "cell_type": "code",
   "execution_count": null,
   "metadata": {},
   "outputs": [],
   "source": [
    "lambda_api = 'https://6y4f5r8kn4.execute-api.eu-west-3.amazonaws.com/test'\n",
    "lambda_method = '/predict'\n",
    "url = f'{lambda_api}{lambda_method}'"
   ]
  },
  {
   "cell_type": "code",
   "execution_count": null,
   "metadata": {},
   "outputs": [],
   "source": [
    "requests.post(url, json=event_dict).json()"
   ]
  }
 ],
 "metadata": {
  "interpreter": {
   "hash": "e1db84734a3d3d0c15f6b4b965815f8c27842eefe55dee7e4ba0964aee0f6be8"
  },
  "kernelspec": {
   "display_name": "Python 3.9.7 64-bit ('tf': conda)",
   "language": "python",
   "name": "python3"
  },
  "language_info": {
   "codemirror_mode": {
    "name": "ipython",
    "version": 3
   },
   "file_extension": ".py",
   "mimetype": "text/x-python",
   "name": "python",
   "nbconvert_exporter": "python",
   "pygments_lexer": "ipython3",
   "version": "3.9.7"
  },
  "orig_nbformat": 4
 },
 "nbformat": 4,
 "nbformat_minor": 2
}
