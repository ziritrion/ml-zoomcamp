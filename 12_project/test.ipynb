{
 "cells": [
  {
   "cell_type": "markdown",
   "metadata": {},
   "source": [
    "# Testing the Lambda Function (local)"
   ]
  },
  {
   "cell_type": "code",
   "execution_count": 3,
   "metadata": {},
   "outputs": [],
   "source": [
    "import json\n",
    "import lambda_function"
   ]
  },
  {
   "cell_type": "code",
   "execution_count": 22,
   "metadata": {},
   "outputs": [
    {
     "name": "stdout",
     "output_type": "stream",
     "text": [
      "{\"url\": \"https://hips.hearstapps.com/hmg-prod.s3.amazonaws.com/images/roasted-beets-horizontal-1533160874.jpg\", \"short\": true}\n"
     ]
    }
   ],
   "source": [
    "url_apple = 'https://p.turbosquid.com/ts-thumb/hU/Dcr9s1/jz/applefruit_a0000/jpg/1626850265/600x600/fit_q87/98b0a1bf7e1ce7cd24aab43cd9610b190d5e4cf1/applefruit_a0000.jpg'\n",
    "url_beetroot = 'https://hips.hearstapps.com/hmg-prod.s3.amazonaws.com/images/roasted-beets-horizontal-1533160874.jpg'\n",
    "url_garlic = 'https://www.garlicsolutions.com/wp-content/uploads/2020/12/garlic_home.jpg'\n",
    "url_watermelon = 'https://i0.wp.com/post.healthline.com/wp-content/uploads/2021/11/watermelon-1296x728-header-1.jpg?w=1155&h=1528'\n",
    "url_onion = 'https://m.media-amazon.com/images/I/81gv--xMImL._SX679_.jpg'\n",
    "\n",
    "event_dict = {\n",
    "    \"url\": url_beetroot,\n",
    "    \"short\": True\n",
    "}\n",
    "\n",
    "event = json.dumps(event_dict)\n",
    "print(event)"
   ]
  },
  {
   "cell_type": "code",
   "execution_count": 23,
   "metadata": {},
   "outputs": [
    {
     "data": {
      "text/plain": [
       "'beetroot'"
      ]
     },
     "execution_count": 23,
     "metadata": {},
     "output_type": "execute_result"
    }
   ],
   "source": [
    "# Lambda takes care of converting the JSON to Python dict,\n",
    "# so for local testing we send the dict instead\n",
    "lambda_function.lambda_handler(event_dict, None)"
   ]
  }
 ],
 "metadata": {
  "interpreter": {
   "hash": "e1db84734a3d3d0c15f6b4b965815f8c27842eefe55dee7e4ba0964aee0f6be8"
  },
  "kernelspec": {
   "display_name": "Python 3.9.7 64-bit ('tf': conda)",
   "language": "python",
   "name": "python3"
  },
  "language_info": {
   "codemirror_mode": {
    "name": "ipython",
    "version": 3
   },
   "file_extension": ".py",
   "mimetype": "text/x-python",
   "name": "python",
   "nbconvert_exporter": "python",
   "pygments_lexer": "ipython3",
   "version": "3.9.7"
  },
  "orig_nbformat": 4
 },
 "nbformat": 4,
 "nbformat_minor": 2
}
