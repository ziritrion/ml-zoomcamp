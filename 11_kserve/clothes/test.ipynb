{
 "cells": [
  {
   "cell_type": "code",
   "execution_count": 1,
   "id": "fe7b23ea",
   "metadata": {},
   "outputs": [],
   "source": [
    "import requests"
   ]
  },
  {
   "cell_type": "code",
   "execution_count": 2,
   "id": "75d21654",
   "metadata": {},
   "outputs": [],
   "source": [
    "from keras_image_helper import create_preprocessor\n",
    "preprocessor = create_preprocessor('xception', target_size=(299, 299))"
   ]
  },
  {
   "cell_type": "code",
   "execution_count": 3,
   "id": "221d4971",
   "metadata": {},
   "outputs": [],
   "source": [
    "url = 'http://bit.ly/mlbookcamp-pants'\n",
    "X = preprocessor.from_url(url)"
   ]
  },
  {
   "cell_type": "code",
   "execution_count": 5,
   "id": "c0a58c30",
   "metadata": {},
   "outputs": [
    {
     "data": {
      "text/plain": [
       "(1, 299, 299, 3)"
      ]
     },
     "execution_count": 5,
     "metadata": {},
     "output_type": "execute_result"
    }
   ],
   "source": [
    "X.shape"
   ]
  },
  {
   "cell_type": "code",
   "execution_count": 6,
   "id": "d9353db3",
   "metadata": {},
   "outputs": [],
   "source": [
    "request = {\n",
    "    # numpy arrays are not serializable, so we convert them to regular lists\n",
    "    \"instances\": X.tolist()\n",
    "}"
   ]
  },
  {
   "cell_type": "code",
   "execution_count": 7,
   "id": "54618725",
   "metadata": {},
   "outputs": [],
   "source": [
    "service_name = 'clothes'\n",
    "host = f'{service_name}.default.example.com'\n",
    "\n",
    "actual_domain = 'http://localhost:8080'\n",
    "url = f'{actual_domain}/v1/models/{service_name}:predict'\n",
    "\n",
    "headers = {'Host': host}"
   ]
  },
  {
   "cell_type": "code",
   "execution_count": 10,
   "id": "748a0fe6",
   "metadata": {},
   "outputs": [],
   "source": [
    "response = requests.post(url, json=request, headers=headers).json()\n"
   ]
  },
  {
   "cell_type": "code",
   "execution_count": 11,
   "id": "f5ef691c",
   "metadata": {},
   "outputs": [
    {
     "data": {
      "text/plain": [
       "{'predictions': [[-1.86829197,\n",
       "   -4.76124668,\n",
       "   -2.3169837,\n",
       "   -1.06257,\n",
       "   9.88716221,\n",
       "   -2.81243372,\n",
       "   -3.66628361,\n",
       "   3.20036411,\n",
       "   -2.60233974,\n",
       "   -4.83504725]]}"
      ]
     },
     "execution_count": 11,
     "metadata": {},
     "output_type": "execute_result"
    }
   ],
   "source": [
    "response"
   ]
  },
  {
   "cell_type": "code",
   "execution_count": 12,
   "id": "0e9f84db",
   "metadata": {},
   "outputs": [],
   "source": [
    "predictions = response['predictions']"
   ]
  },
  {
   "cell_type": "markdown",
   "id": "ed87eefc",
   "metadata": {},
   "source": []
  },
  {
   "cell_type": "code",
   "execution_count": 9,
   "id": "943431c1",
   "metadata": {},
   "outputs": [],
   "source": [
    "classes = [\n",
    "    'dress',\n",
    "    'hat',\n",
    "    'longsleeve',\n",
    "    'outwear',\n",
    "    'pants',\n",
    "    'shirt',\n",
    "    'shoes',\n",
    "    'shorts',\n",
    "    'skirt',\n",
    "    't-shirt'\n",
    "]"
   ]
  },
  {
   "cell_type": "code",
   "execution_count": 13,
   "id": "1d1ef3fd",
   "metadata": {},
   "outputs": [],
   "source": [
    "pred = predictions[0]"
   ]
  },
  {
   "cell_type": "code",
   "execution_count": 15,
   "id": "41693388",
   "metadata": {},
   "outputs": [
    {
     "data": {
      "text/plain": [
       "{'dress': -1.86829197,\n",
       " 'hat': -4.76124668,\n",
       " 'longsleeve': -2.3169837,\n",
       " 'outwear': -1.06257,\n",
       " 'pants': 9.88716221,\n",
       " 'shirt': -2.81243372,\n",
       " 'shoes': -3.66628361,\n",
       " 'shorts': 3.20036411,\n",
       " 'skirt': -2.60233974,\n",
       " 't-shirt': -4.83504725}"
      ]
     },
     "execution_count": 15,
     "metadata": {},
     "output_type": "execute_result"
    }
   ],
   "source": [
    "dict(zip(classes, pred)) "
   ]
  },
  {
   "cell_type": "code",
   "execution_count": null,
   "id": "8633bc89",
   "metadata": {},
   "outputs": [],
   "source": []
  }
 ],
 "metadata": {
  "kernelspec": {
   "display_name": "Python 3 (ipykernel)",
   "language": "python",
   "name": "python3"
  },
  "language_info": {
   "codemirror_mode": {
    "name": "ipython",
    "version": 3
   },
   "file_extension": ".py",
   "mimetype": "text/x-python",
   "name": "python",
   "nbconvert_exporter": "python",
   "pygments_lexer": "ipython3",
   "version": "3.8.10"
  }
 },
 "nbformat": 4,
 "nbformat_minor": 5
}
