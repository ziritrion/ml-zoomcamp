{
 "cells": [
  {
   "cell_type": "markdown",
   "metadata": {},
   "source": [
    "# Prepare the Lambda code\n",
    "\n",
    "Now you need to copy all the code into a separate python file. You will need to use this file for the next two questions.\n",
    "\n",
    "Tip: you can test this file locally with `ipython` or Jupyter Notebook by importing the file and invoking the function from this file."
   ]
  },
  {
   "cell_type": "code",
   "execution_count": 1,
   "metadata": {},
   "outputs": [
    {
     "name": "stdout",
     "output_type": "stream",
     "text": [
      "{\"url\": \"https://upload.wikimedia.org/wikipedia/commons/9/9a/Pug_600.jpg\"}\n"
     ]
    }
   ],
   "source": [
    "# Testing the Lambda code\n",
    "import json\n",
    "\n",
    "url1 = 'https://upload.wikimedia.org/wikipedia/commons/9/9a/Pug_600.jpg'\n",
    "url2 = 'https://upload.wikimedia.org/wikipedia/commons/1/18/Vombatus_ursinus_-Maria_Island_National_Park.jpg'\n",
    "event_dict = {\n",
    "    \"url\": url1\n",
    "}\n",
    "\n",
    "event = json.dumps(event_dict)\n",
    "print(event)"
   ]
  },
  {
   "cell_type": "code",
   "execution_count": 3,
   "metadata": {},
   "outputs": [
    {
     "data": {
      "text/plain": [
       "[0.7704913020133972]"
      ]
     },
     "execution_count": 3,
     "metadata": {},
     "output_type": "execute_result"
    }
   ],
   "source": [
    "import lambda_function\n",
    "# Lambda takes care of converting the JSON to Python dict,\n",
    "# so for local testing we send the dict instead\n",
    "lambda_function.lambda_handler(event_dict, None)"
   ]
  },
  {
   "cell_type": "markdown",
   "metadata": {},
   "source": [
    "# Docker\n",
    "\n",
    "For the next two questions, we'll use a Docker image that I already prepared. This is the Dockerfile that I used for creating the image:\n",
    "\n",
    "    FROM public.ecr.aws/lambda/python:3.8\n",
    "    COPY cats-dogs-v2.tflite .\n",
    "\n",
    "And pushed it to `agrigorev/zoomcamp-cats-dogs-lambda:v2`.\n",
    "\n",
    "> Note: The image already contains a model and it's not the same model as the one we used for questions 1-4."
   ]
  },
  {
   "cell_type": "markdown",
   "metadata": {},
   "source": [
    "# Question 5\n",
    "\n",
    "Now let's extend this docker image, install all the required libraries and add the code for lambda.\n",
    "\n",
    "You don't need to include the model in the image. It's already included. The name of the file with the model is `cats-dogs-v2.tflite` and it's in the current workdir in the image (see the Dockerfile above for the reference).\n",
    "\n",
    "What's the image id of the base image?\n",
    "\n",
    "In the build logs (on Linux), you'll see a log like that:\n",
    "\n",
    "    $ docker some-command-for-building\n",
    "    Sending build context to Docker daemon  2.048kB\n",
    "    Step 1/N : FROM agrigorev/zoomcamp-model:3.8.12-slim\n",
    "    ---> XXXXXXXXXXXX\n",
    "    Step 2/N : ....\n",
    "\n",
    "You need to get this `XXXXXXXXXXXX`.\n",
    "\n",
    "On MacOS and Windows, the logs for `docker build` are different. To get the image id there, you can use `docker image ls -a`."
   ]
  },
  {
   "cell_type": "markdown",
   "metadata": {},
   "source": [
    "> _Build the Docker image with `docker build -f Dockerfile -t dogs-cats-lambda .`_\n",
    "\n",
    "> _Check the image id for `agrigorev/zoomcamp-model` with `docker image ls -a`_"
   ]
  },
  {
   "cell_type": "markdown",
   "metadata": {},
   "source": [
    "## Question 5 answer\n",
    "\n",
    "`f0f43f7bc6e0`"
   ]
  },
  {
   "cell_type": "markdown",
   "metadata": {},
   "source": [
    "# Question 6\n",
    "\n",
    "Now run the container locally.\n",
    "\n",
    "Score this image: [https://upload.wikimedia.org/wikipedia/commons/1/18/Vombatus_ursinus_-Maria_Island_National_Park.jpg](https://upload.wikimedia.org/wikipedia/commons/1/18/Vombatus_ursinus_-Maria_Island_National_Park.jpg)\n",
    "\n",
    "What's the output from the model?"
   ]
  },
  {
   "cell_type": "markdown",
   "metadata": {},
   "source": [
    "> Run the image with the following:\n",
    "\n",
    "`docker run -it --rm -p 8080:8080 dogs-cats-lambda:latest`"
   ]
  },
  {
   "cell_type": "code",
   "execution_count": 4,
   "metadata": {},
   "outputs": [],
   "source": [
    "import requests\n",
    "url = 'http://localhost:8080/2015-03-31/functions/function/invocations'\n",
    "data = {'url':'https://upload.wikimedia.org/wikipedia/commons/1/18/Vombatus_ursinus_-Maria_Island_National_Park.jpg'}"
   ]
  },
  {
   "cell_type": "code",
   "execution_count": 6,
   "metadata": {},
   "outputs": [
    {
     "data": {
      "text/plain": [
       "[0.5413472652435303]"
      ]
     },
     "execution_count": 6,
     "metadata": {},
     "output_type": "execute_result"
    }
   ],
   "source": [
    "requests.post(url, json=data).json()"
   ]
  },
  {
   "cell_type": "markdown",
   "metadata": {},
   "source": [
    "## Question 6 answer\n",
    "\n",
    "`0.5413472652435303`"
   ]
  }
 ],
 "metadata": {
  "interpreter": {
   "hash": "e1db84734a3d3d0c15f6b4b965815f8c27842eefe55dee7e4ba0964aee0f6be8"
  },
  "kernelspec": {
   "display_name": "Python 3.9.7 64-bit ('tf': conda)",
   "language": "python",
   "name": "python3"
  },
  "language_info": {
   "codemirror_mode": {
    "name": "ipython",
    "version": 3
   },
   "file_extension": ".py",
   "mimetype": "text/x-python",
   "name": "python",
   "nbconvert_exporter": "python",
   "pygments_lexer": "ipython3",
   "version": "3.9.7"
  },
  "orig_nbformat": 4
 },
 "nbformat": 4,
 "nbformat_minor": 2
}
