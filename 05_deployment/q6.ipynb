{
 "cells": [
  {
   "cell_type": "code",
   "execution_count": 1,
   "metadata": {},
   "outputs": [],
   "source": [
    "import requests\n",
    "\n",
    "url = 'http://0.0.0.0:9696/predict'\n",
    "customer = {\"contract\": \"two_year\", \"tenure\": 12, \"monthlycharges\": 10}"
   ]
  },
  {
   "cell_type": "code",
   "execution_count": 2,
   "metadata": {},
   "outputs": [
    {
     "data": {
      "text/plain": [
       "{'churn': True, 'churn_probability': 0.7284944888182928}"
      ]
     },
     "execution_count": 2,
     "metadata": {},
     "output_type": "execute_result"
    }
   ],
   "source": [
    "requests.post(url, json=customer).json()"
   ]
  }
 ],
 "metadata": {
  "interpreter": {
   "hash": "2793f5ae2d759d5672dd13ca141571e899773377b8bc8e5b8bbacc270ef885cb"
  },
  "kernelspec": {
   "display_name": "Python 3.8.11 64-bit ('ml-zoomcamp': conda)",
   "name": "python3"
  },
  "language_info": {
   "codemirror_mode": {
    "name": "ipython",
    "version": 3
   },
   "file_extension": ".py",
   "mimetype": "text/x-python",
   "name": "python",
   "nbconvert_exporter": "python",
   "pygments_lexer": "ipython3",
   "version": "3.8.11"
  },
  "orig_nbformat": 4
 },
 "nbformat": 4,
 "nbformat_minor": 2
}
