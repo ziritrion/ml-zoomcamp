{
 "cells": [
  {
   "cell_type": "markdown",
   "metadata": {},
   "source": [
    "# Session 8 homework"
   ]
  },
  {
   "cell_type": "markdown",
   "metadata": {},
   "source": [
    "Download dataset"
   ]
  },
  {
   "cell_type": "code",
   "execution_count": null,
   "metadata": {},
   "outputs": [],
   "source": [
    "!wget https://github.com/alexeygrigorev/large-datasets/releases/download/dogs-cats/train.zip"
   ]
  },
  {
   "cell_type": "markdown",
   "metadata": {},
   "source": [
    "# Data preparation:\n",
    "* Create a train and validation folders\n",
    "* In each folder, create cats and dogs folders\n",
    "* Move the first 10,000 images to the train folder (from 0 to 9999) for boths cats and dogs - and put them in respective folders\n",
    "* Move the remaining 2,500 images to the validation folder (from 10000 to 12499)"
   ]
  },
  {
   "cell_type": "code",
   "execution_count": null,
   "metadata": {},
   "outputs": [],
   "source": [
    "# unzip the downloaded dataset\n",
    "import zipfile\n",
    "with zipfile.ZipFile('train.zip', 'r') as zip_ref:\n",
    "    zip_ref.extractall('.')"
   ]
  },
  {
   "cell_type": "code",
   "execution_count": null,
   "metadata": {},
   "outputs": [],
   "source": [
    "import os\n",
    "\n",
    "#create folders\n",
    "os.makedirs('train/dogs')\n",
    "os.makedirs('train/cats')\n",
    "os.makedirs('val/dogs')\n",
    "os.makedirs('val/cats')"
   ]
  },
  {
   "cell_type": "code",
   "execution_count": null,
   "metadata": {},
   "outputs": [],
   "source": [
    "# move the images\n",
    "for i in range(0, 10000):\n",
    "    os.rename(f'train/dog.{i}.jpg', f'train/dogs/dog.{i}.jpg')\n",
    "    os.rename(f'train/cat.{i}.jpg', f'train/cats/cat.{i}.jpg')\n",
    "\n",
    "for i in range(10000, 12500):\n",
    "    os.rename(f'train/dog.{i}.jpg', f'val/dogs/dog.{i}.jpg')\n",
    "    os.rename(f'train/cat.{i}.jpg', f'val/cats/cat.{i}.jpg')"
   ]
  },
  {
   "cell_type": "markdown",
   "metadata": {},
   "source": [
    "## Model\n",
    "\n",
    "For this homework we will use Convolutional Neural Network (CNN. Like in the lectures, we'll use Keras.\n",
    "\n",
    "You need to develop the model with following structure:\n",
    "\n",
    "* The shape for input should be `(150, 150, 3)`\n",
    "* Next, create a covolutional layer (`Conv2D`):\n",
    "    * Use 32 filters\n",
    "    * Kernel size should be `(3, 3)` (that's the size of the filter)\n",
    "    * Use `'relu'` as activation\n",
    "* Reduce the size of the feature map with max pooling (`MaxPooling2D`)\n",
    "    * Set the pooling size to (2, 2)\n",
    "* Turn the multi-dimensional result into vectors using a `Flatten` layer\n",
    "* Next, add a `Dense` layer with 64 neurons and `'relu'` activation\n",
    "* Finally, create the `Dense` layer with 1 neuron - this will be the output\n",
    "\n",
    "As optimizer use `SGD` with the following parameters:\n",
    "\n",
    "* `SGD(lr=0.002, momentum=0.8)`\n",
    "\n",
    "For clarification about kernel size and max pooling, check Week #11 Office Hours."
   ]
  },
  {
   "cell_type": "code",
   "execution_count": 1,
   "metadata": {},
   "outputs": [],
   "source": [
    "import numpy as np\n",
    "import matplotlib.pyplot as plt\n",
    "import tensorflow as tf\n",
    "from tensorflow import keras\n",
    "from keras.layers import Conv2D\n",
    "from keras.layers import MaxPooling2D\n",
    "from keras.layers import Dense\n",
    "from keras.layers import Flatten\n"
   ]
  },
  {
   "cell_type": "code",
   "execution_count": 2,
   "metadata": {},
   "outputs": [],
   "source": [
    "def make_model():\n",
    "    # Model\n",
    "    inputs = keras.Input(shape=(150, 150, 3))\n",
    "    conv = keras.layers.Conv2D(32, 3, activation='relu')(inputs)\n",
    "    pool = keras.layers.MaxPooling2D(pool_size=(2,2))(conv)\n",
    "    vector = keras.layers.Flatten()(pool)\n",
    "    dense = keras.layers.Dense(64, activation='relu')(vector)\n",
    "    output = keras.layers.Dense(1, activation='sigmoid')(dense)\n",
    "    model = keras.Model(inputs, output)\n",
    "\n",
    "    # Optimizer. This is a single output problem, so BinaryCrossentropy seems better\n",
    "    optimizer = keras.optimizers.SGD(learning_rate=0.002, momentum=0.8)\n",
    "    loss = keras.losses.BinaryCrossentropy(from_logits=False)\n",
    "\n",
    "    # Model compiling\n",
    "    model.compile(optimizer=optimizer, loss=loss, metrics=['accuracy'])\n",
    "    \n",
    "    return model"
   ]
  },
  {
   "cell_type": "code",
   "execution_count": null,
   "metadata": {},
   "outputs": [],
   "source": [
    "'''\n",
    "def make_model_2_make_modeler():\n",
    "    model = keras.models.Sequential()\n",
    "    model.add(Conv2D(32, 3, activation='relu', input_shape=(150, 150, 3)))\n",
    "    model.add(MaxPooling2D(pool_size=(2,2)))\n",
    "    model.add(Flatten())\n",
    "    model.add(Dense(64, activation='relu'))\n",
    "    model.add(Dense(1, activation='sigmoid'))\n",
    "\n",
    "    # Optimizer. This is a single output problem, so BinaryCrossentropy seems better\n",
    "    optimizer = keras.optimizers.SGD(learning_rate=0.002, momentum=0.8)\n",
    "    loss = keras.losses.BinaryCrossentropy(from_logits=False)\n",
    "\n",
    "    # Model compiling\n",
    "    model.compile(optimizer=optimizer, loss=loss, metrics=['accuracy'])\n",
    "\n",
    "    return model\n",
    "'''"
   ]
  },
  {
   "cell_type": "markdown",
   "metadata": {},
   "source": [
    "# Question 1\n",
    "Since we have a binary classification problem, what is the best loss function for us?"
   ]
  },
  {
   "cell_type": "markdown",
   "metadata": {},
   "source": [
    "## Question 1 solution\n",
    "\n",
    "It looks like `BinaryCrossentropy` is the better choice, because we're dealing with a binary classification problem and this loss function is specific for it."
   ]
  },
  {
   "cell_type": "markdown",
   "metadata": {},
   "source": [
    "# Question 2\n",
    "What's the total number of parameters of the model? You can use the summary method for that."
   ]
  },
  {
   "cell_type": "code",
   "execution_count": 3,
   "metadata": {},
   "outputs": [
    {
     "name": "stdout",
     "output_type": "stream",
     "text": [
      "Model: \"model\"\n",
      "_________________________________________________________________\n",
      "Layer (type)                 Output Shape              Param #   \n",
      "=================================================================\n",
      "input_1 (InputLayer)         [(None, 150, 150, 3)]     0         \n",
      "_________________________________________________________________\n",
      "conv2d (Conv2D)              (None, 148, 148, 32)      896       \n",
      "_________________________________________________________________\n",
      "max_pooling2d (MaxPooling2D) (None, 74, 74, 32)        0         \n",
      "_________________________________________________________________\n",
      "flatten (Flatten)            (None, 175232)            0         \n",
      "_________________________________________________________________\n",
      "dense (Dense)                (None, 64)                11214912  \n",
      "_________________________________________________________________\n",
      "dense_1 (Dense)              (None, 1)                 65        \n",
      "=================================================================\n",
      "Total params: 11,215,873\n",
      "Trainable params: 11,215,873\n",
      "Non-trainable params: 0\n",
      "_________________________________________________________________\n"
     ]
    },
    {
     "name": "stderr",
     "output_type": "stream",
     "text": [
      "2021-11-22 12:25:03.238457: I tensorflow/core/platform/cpu_feature_guard.cc:142] This TensorFlow binary is optimized with oneAPI Deep Neural Network Library (oneDNN) to use the following CPU instructions in performance-critical operations:  SSE4.1 SSE4.2 AVX AVX2 FMA\n",
      "To enable them in other operations, rebuild TensorFlow with the appropriate compiler flags.\n"
     ]
    }
   ],
   "source": [
    "model = make_model()\n",
    "#model = make_model_2_the_return()\n",
    "model.summary()"
   ]
  },
  {
   "cell_type": "markdown",
   "metadata": {},
   "source": [
    "## Question 2 solution\n",
    "\n",
    "Holy crap `11,215,873` parameters lol, most of them by the dense layer."
   ]
  },
  {
   "cell_type": "markdown",
   "metadata": {},
   "source": [
    "# Generators and Training\n",
    "\n",
    "For the next two questions, create a data generator:\n",
    "\n",
    "    ImageDataGenerator(rescale=1./255)\n",
    "\n",
    "* We don't need to do any additional pre-processing for the images.\n",
    "* When reading the data from train/val directories, check the `class_mode` parameter. Which value should it be for a binary classification problem?\n",
    "* Use batch_size=20\n",
    "* Use `shuffle=True` for both training and validaition\n",
    "\n",
    "\n",
    "For training use `.fit()` with the following params:\n",
    "\n",
    "    model.fit(\n",
    "        train_generator,\n",
    "        steps_per_epoch=100,\n",
    "        epochs=10,\n",
    "        validation_data=validation_generator,\n",
    "        validation_steps=50\n",
    "    )"
   ]
  },
  {
   "cell_type": "code",
   "execution_count": 5,
   "metadata": {},
   "outputs": [],
   "source": [
    "from tensorflow.keras.preprocessing.image import load_img\n",
    "from tensorflow.keras.preprocessing.image import ImageDataGenerator"
   ]
  },
  {
   "cell_type": "code",
   "execution_count": 6,
   "metadata": {},
   "outputs": [
    {
     "name": "stdout",
     "output_type": "stream",
     "text": [
      "Found 20000 images belonging to 2 classes.\n",
      "Found 5000 images belonging to 2 classes.\n"
     ]
    }
   ],
   "source": [
    "# single generator because why not\n",
    "gen = ImageDataGenerator(rescale=1./255)\n",
    "train_ds = gen.flow_from_directory(\n",
    "    './train',\n",
    "    target_size=(150, 150),\n",
    "    batch_size=20,\n",
    "    shuffle=True,\n",
    "    class_mode='binary'\n",
    "    )\n",
    "val_ds = gen.flow_from_directory(\n",
    "    './val',\n",
    "    target_size=(150, 150),\n",
    "    batch_size=20,\n",
    "    shuffle=True,\n",
    "    class_mode='binary'\n",
    "    )"
   ]
  },
  {
   "cell_type": "code",
   "execution_count": 7,
   "metadata": {},
   "outputs": [
    {
     "name": "stderr",
     "output_type": "stream",
     "text": [
      "2021-11-22 12:25:21.270136: I tensorflow/compiler/mlir/mlir_graph_optimization_pass.cc:185] None of the MLIR Optimization Passes are enabled (registered 2)\n"
     ]
    },
    {
     "name": "stdout",
     "output_type": "stream",
     "text": [
      "Epoch 1/10\n",
      "100/100 [==============================] - 13s 128ms/step - loss: 0.6955 - accuracy: 0.5185 - val_loss: 0.6900 - val_accuracy: 0.5540\n",
      "Epoch 2/10\n",
      "100/100 [==============================] - 12s 121ms/step - loss: 0.6905 - accuracy: 0.5265 - val_loss: 0.6846 - val_accuracy: 0.5530\n",
      "Epoch 3/10\n",
      "100/100 [==============================] - 12s 124ms/step - loss: 0.6872 - accuracy: 0.5375 - val_loss: 0.6828 - val_accuracy: 0.5760\n",
      "Epoch 4/10\n",
      "100/100 [==============================] - 12s 125ms/step - loss: 0.6749 - accuracy: 0.5830 - val_loss: 0.6835 - val_accuracy: 0.5580\n",
      "Epoch 5/10\n",
      "100/100 [==============================] - 12s 118ms/step - loss: 0.6721 - accuracy: 0.5830 - val_loss: 0.6702 - val_accuracy: 0.5900\n",
      "Epoch 6/10\n",
      "100/100 [==============================] - 12s 124ms/step - loss: 0.6727 - accuracy: 0.5830 - val_loss: 0.6754 - val_accuracy: 0.5610\n",
      "Epoch 7/10\n",
      "100/100 [==============================] - 13s 133ms/step - loss: 0.6614 - accuracy: 0.6020 - val_loss: 0.6513 - val_accuracy: 0.6280\n",
      "Epoch 8/10\n",
      "100/100 [==============================] - 12s 123ms/step - loss: 0.6593 - accuracy: 0.5945 - val_loss: 0.6525 - val_accuracy: 0.6100\n",
      "Epoch 9/10\n",
      "100/100 [==============================] - 12s 122ms/step - loss: 0.6510 - accuracy: 0.6060 - val_loss: 0.6481 - val_accuracy: 0.6130\n",
      "Epoch 10/10\n",
      "100/100 [==============================] - 12s 122ms/step - loss: 0.6509 - accuracy: 0.6115 - val_loss: 0.6687 - val_accuracy: 0.5840\n"
     ]
    }
   ],
   "source": [
    "# training\n",
    "history = model.fit(\n",
    "    train_ds,\n",
    "    steps_per_epoch=100,\n",
    "    epochs=10,\n",
    "    validation_data=val_ds,\n",
    "    validation_steps=50\n",
    ")"
   ]
  },
  {
   "cell_type": "code",
   "execution_count": 8,
   "metadata": {},
   "outputs": [
    {
     "data": {
      "text/plain": [
       "<matplotlib.legend.Legend at 0x1a3df0fd0>"
      ]
     },
     "execution_count": 8,
     "metadata": {},
     "output_type": "execute_result"
    },
    {
     "data": {
      "image/png": "[encoded data removed]",
      "text/plain": [
       "<Figure size 432x288 with 1 Axes>"
      ]
     },
     "metadata": {
      "needs_background": "light"
     },
     "output_type": "display_data"
    }
   ],
   "source": [
    "plt.plot(history.history['accuracy'], label='train')\n",
    "plt.plot(history.history['val_accuracy'], label='val')\n",
    "plt.xticks(np.arange(10))\n",
    "plt.legend()"
   ]
  },
  {
   "cell_type": "code",
   "execution_count": 9,
   "metadata": {},
   "outputs": [],
   "source": [
    "path = './val/cats'\n",
    "name = 'cat.10222.jpg'\n",
    "fullname = f'{path}/{name}'\n",
    "img = load_img(fullname, target_size=(150, 150))"
   ]
  },
  {
   "cell_type": "code",
   "execution_count": 10,
   "metadata": {},
   "outputs": [
    {
     "data": {
      "text/plain": [
       "(1, 150, 150, 3)"
      ]
     },
     "execution_count": 10,
     "metadata": {},
     "output_type": "execute_result"
    }
   ],
   "source": [
    "X = np.array([np.array(img)])\n",
    "X.shape"
   ]
  },
  {
   "cell_type": "code",
   "execution_count": 11,
   "metadata": {},
   "outputs": [
    {
     "data": {
      "text/plain": [
       "array([[0.]], dtype=float32)"
      ]
     },
     "execution_count": 11,
     "metadata": {},
     "output_type": "execute_result"
    }
   ],
   "source": [
    "model.predict(X)"
   ]
  },
  {
   "cell_type": "markdown",
   "metadata": {},
   "source": [
    "# Question 3\n",
    "\n",
    "What is the median of training accuracy for non-augmented model?\n",
    "\n"
   ]
  },
  {
   "cell_type": "code",
   "execution_count": 12,
   "metadata": {},
   "outputs": [
    {
     "data": {
      "text/plain": [
       "0.5830000042915344"
      ]
     },
     "execution_count": 12,
     "metadata": {},
     "output_type": "execute_result"
    }
   ],
   "source": [
    "np.median(history.history['accuracy'])"
   ]
  },
  {
   "cell_type": "markdown",
   "metadata": {},
   "source": [
    "## Question 3 solution\n",
    "\n",
    "`0.56`"
   ]
  },
  {
   "cell_type": "markdown",
   "metadata": {},
   "source": [
    "# Quesiton 4\n",
    "\n",
    "What is the standard deviation of training loss for non-augmented model?"
   ]
  },
  {
   "cell_type": "code",
   "execution_count": 13,
   "metadata": {},
   "outputs": [
    {
     "data": {
      "text/plain": [
       "0.01516039542499041"
      ]
     },
     "execution_count": 13,
     "metadata": {},
     "output_type": "execute_result"
    }
   ],
   "source": [
    "np.std(history.history['loss'])"
   ]
  },
  {
   "cell_type": "markdown",
   "metadata": {},
   "source": [
    "## Question 4 solution\n",
    "\n",
    "`0.0116`"
   ]
  },
  {
   "cell_type": "markdown",
   "metadata": {},
   "source": [
    "# Data augmentation\n",
    "\n",
    "For the next two questions, we'll generate more data using data augmentations.\n",
    "\n",
    "Add the following augmentations to your data generator:\n",
    "\n",
    "* `rotation_range=40,`\n",
    "* `width_shift_range=0.2,`\n",
    "* `height_shift_range=0.2,`\n",
    "* `shear_range=0.2,`\n",
    "* `zoom_range=0.2,`\n",
    "* `horizontal_flip=True,`\n",
    "* `fill_mode='nearest'`"
   ]
  },
  {
   "cell_type": "code",
   "execution_count": 14,
   "metadata": {},
   "outputs": [
    {
     "name": "stdout",
     "output_type": "stream",
     "text": [
      "Found 20000 images belonging to 2 classes.\n",
      "Found 5000 images belonging to 2 classes.\n"
     ]
    }
   ],
   "source": [
    "gen_transformed = ImageDataGenerator(\n",
    "    rescale=1./255,\n",
    "    rotation_range=40,\n",
    "    width_shift_range=0.2,\n",
    "    height_shift_range=0.2,\n",
    "    shear_range=0.2,\n",
    "    zoom_range=0.2,\n",
    "    horizontal_flip=True,\n",
    "    fill_mode='nearest'\n",
    "    )\n",
    "train_ds = gen_transformed.flow_from_directory(\n",
    "    './train',\n",
    "    target_size=(150, 150),\n",
    "    batch_size=20,\n",
    "    shuffle=True,\n",
    "    class_mode='binary'\n",
    "    )\n",
    "val_ds = gen.flow_from_directory(\n",
    "    './val',\n",
    "    target_size=(150, 150),\n",
    "    batch_size=20,\n",
    "    shuffle=True,\n",
    "    class_mode='binary'\n",
    "    )"
   ]
  },
  {
   "cell_type": "code",
   "execution_count": 15,
   "metadata": {},
   "outputs": [
    {
     "name": "stdout",
     "output_type": "stream",
     "text": [
      "Epoch 1/10\n",
      "100/100 [==============================] - 21s 209ms/step - loss: 0.6768 - accuracy: 0.5675 - val_loss: 0.6434 - val_accuracy: 0.6400\n",
      "Epoch 2/10\n",
      "100/100 [==============================] - 22s 215ms/step - loss: 0.6655 - accuracy: 0.5945 - val_loss: 0.6986 - val_accuracy: 0.5540\n",
      "Epoch 3/10\n",
      "100/100 [==============================] - 22s 219ms/step - loss: 0.6706 - accuracy: 0.5825 - val_loss: 0.6567 - val_accuracy: 0.5830\n",
      "Epoch 4/10\n",
      "100/100 [==============================] - 22s 220ms/step - loss: 0.6667 - accuracy: 0.5615 - val_loss: 0.6372 - val_accuracy: 0.6270\n",
      "Epoch 5/10\n",
      "100/100 [==============================] - 21s 212ms/step - loss: 0.6689 - accuracy: 0.5950 - val_loss: 0.6367 - val_accuracy: 0.6490\n",
      "Epoch 6/10\n",
      "100/100 [==============================] - 21s 212ms/step - loss: 0.6558 - accuracy: 0.6210 - val_loss: 0.6693 - val_accuracy: 0.5610\n",
      "Epoch 7/10\n",
      "100/100 [==============================] - 22s 218ms/step - loss: 0.6530 - accuracy: 0.5985 - val_loss: 0.6319 - val_accuracy: 0.6260\n",
      "Epoch 8/10\n",
      "100/100 [==============================] - 21s 206ms/step - loss: 0.6560 - accuracy: 0.6020 - val_loss: 0.6234 - val_accuracy: 0.6530\n",
      "Epoch 9/10\n",
      "100/100 [==============================] - 21s 211ms/step - loss: 0.6514 - accuracy: 0.6125 - val_loss: 0.6448 - val_accuracy: 0.6270\n",
      "Epoch 10/10\n",
      "100/100 [==============================] - 21s 206ms/step - loss: 0.6620 - accuracy: 0.5940 - val_loss: 0.6317 - val_accuracy: 0.6460\n"
     ]
    }
   ],
   "source": [
    "# we don't recreate the model! We keep using the same instance\n",
    "#model = make_model()\n",
    "# training\n",
    "history = model.fit(\n",
    "    train_ds,\n",
    "    steps_per_epoch=100,\n",
    "    epochs=10,\n",
    "    validation_data=val_ds,\n",
    "    validation_steps=50\n",
    ")"
   ]
  },
  {
   "cell_type": "code",
   "execution_count": 16,
   "metadata": {},
   "outputs": [
    {
     "data": {
      "text/plain": [
       "<matplotlib.legend.Legend at 0x1a68e43d0>"
      ]
     },
     "execution_count": 16,
     "metadata": {},
     "output_type": "execute_result"
    },
    {
     "data": {
      "image/png": "[encoded data removed]",
      "text/plain": [
       "<Figure size 432x288 with 1 Axes>"
      ]
     },
     "metadata": {
      "needs_background": "light"
     },
     "output_type": "display_data"
    }
   ],
   "source": [
    "plt.plot(history.history['accuracy'], label='train')\n",
    "plt.plot(history.history['val_accuracy'], label='val')\n",
    "plt.xticks(np.arange(10))\n",
    "plt.legend()"
   ]
  },
  {
   "cell_type": "markdown",
   "metadata": {},
   "source": [
    "# Question 5\n",
    "\n",
    "Let's train our model for 10 more epochs using the same code as previously. Make sure you don't re-create the model - we want to continue training the model we already started training.\n",
    "\n",
    "What is the mean of validation loss for the model trained with augmentations?"
   ]
  },
  {
   "cell_type": "code",
   "execution_count": 17,
   "metadata": {},
   "outputs": [
    {
     "data": {
      "text/plain": [
       "0.6473723590373993"
      ]
     },
     "execution_count": 17,
     "metadata": {},
     "output_type": "execute_result"
    }
   ],
   "source": [
    "np.mean(history.history['val_loss'])"
   ]
  },
  {
   "cell_type": "markdown",
   "metadata": {},
   "source": [
    "## Question 5 answer\n",
    "\n",
    "`0.6963`"
   ]
  },
  {
   "cell_type": "markdown",
   "metadata": {},
   "source": [
    "# Question 6\n",
    "\n",
    "What's the average of validation accuracy for the last 5 epochs (from 5 to 10) for the model trained with augmentations?"
   ]
  },
  {
   "cell_type": "code",
   "execution_count": 18,
   "metadata": {},
   "outputs": [
    {
     "data": {
      "text/plain": [
       "0.622599995136261"
      ]
     },
     "execution_count": 18,
     "metadata": {},
     "output_type": "execute_result"
    }
   ],
   "source": [
    "np.average(history.history['val_accuracy'][5:])"
   ]
  },
  {
   "cell_type": "markdown",
   "metadata": {},
   "source": [
    "## Question 6 answer\n",
    "\n",
    "`0.5076`"
   ]
  },
  {
   "cell_type": "markdown",
   "metadata": {},
   "source": []
  }
 ],
 "metadata": {
  "interpreter": {
   "hash": "2793f5ae2d759d5672dd13ca141571e899773377b8bc8e5b8bbacc270ef885cb"
  },
  "kernelspec": {
   "display_name": "Python 3.8.12 64-bit ('ml-zoomcamp': conda)",
   "language": "python",
   "name": "python3"
  },
  "language_info": {
   "codemirror_mode": {
    "name": "ipython",
    "version": 3
   },
   "file_extension": ".py",
   "mimetype": "text/x-python",
   "name": "python",
   "nbconvert_exporter": "python",
   "pygments_lexer": "ipython3",
   "version": "3.9.7"
  },
  "orig_nbformat": 4
 },
 "nbformat": 4,
 "nbformat_minor": 2
}
